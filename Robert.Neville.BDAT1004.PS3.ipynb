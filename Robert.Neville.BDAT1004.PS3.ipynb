{
 "cells": [
  {
   "cell_type": "markdown",
   "metadata": {},
   "source": [
    "## Robert Neville BDAT1004 Assignment 3"
   ]
  },
  {
   "cell_type": "code",
   "execution_count": 402,
   "metadata": {},
   "outputs": [],
   "source": [
    "#imports\n",
    "import pandas as pd\n",
    "import numpy as np\n",
    "import matplotlib.pyplot as plt"
   ]
  },
  {
   "cell_type": "markdown",
   "metadata": {},
   "source": [
    "### Question 1"
   ]
  },
  {
   "cell_type": "code",
   "execution_count": 400,
   "metadata": {},
   "outputs": [],
   "source": [
    "users = pd.read_csv(\"https://raw.githubusercontent.com/justmarkham/DAT8/master/data/u.user\",delimiter=\"|\")\n",
    "#print(users)\n",
    "agemean = users.groupby(['occupation'])[\"age\"].mean()\n",
    "sexratio = (users.loc[users[\"gender\"] == \"M\"][\"occupation\"].value_counts()/users.loc[users[\"gender\"] == \"F\"][\"occupation\"].value_counts()).sort_values(ascending=False)\n",
    "agemax = users.groupby(['occupation'])[\"age\"].max()\n",
    "agemin = users.groupby(['occupation'])[\"age\"].min()\n",
    "\n",
    "magemax = users.loc[users[\"gender\"] == \"M\"].groupby(['occupation'])[\"age\"].max()\n",
    "magemin = users.loc[users[\"gender\"] == \"M\"].groupby(['occupation'])[\"age\"].min()\n",
    "fagemax = users.loc[users[\"gender\"] == \"F\"].groupby(['occupation'])[\"age\"].max()\n",
    "fagemin = users.loc[users[\"gender\"] == \"F\"].groupby(['occupation'])[\"age\"].min()\n",
    "\n",
    "mpercent = 100 * users.loc[users[\"gender\"] == \"M\"][\"occupation\"].value_counts() / users[\"occupation\"].value_counts()\n",
    "fpercent = 100 * users.loc[users[\"gender\"] == \"F\"][\"occupation\"].value_counts() / users[\"occupation\"].value_counts()"
   ]
  },
  {
   "cell_type": "markdown",
   "metadata": {},
   "source": [
    "### Question 2"
   ]
  },
  {
   "cell_type": "code",
   "execution_count": 128,
   "metadata": {},
   "outputs": [
    {
     "data": {
      "text/html": [
       "<div>\n",
       "<style scoped>\n",
       "    .dataframe tbody tr th:only-of-type {\n",
       "        vertical-align: middle;\n",
       "    }\n",
       "\n",
       "    .dataframe tbody tr th {\n",
       "        vertical-align: top;\n",
       "    }\n",
       "\n",
       "    .dataframe thead th {\n",
       "        text-align: right;\n",
       "    }\n",
       "</style>\n",
       "<table border=\"1\" class=\"dataframe\">\n",
       "  <thead>\n",
       "    <tr style=\"text-align: right;\">\n",
       "      <th></th>\n",
       "      <th>Team</th>\n",
       "      <th>Shooting Accuracy</th>\n",
       "    </tr>\n",
       "  </thead>\n",
       "  <tbody>\n",
       "    <tr>\n",
       "      <th>3</th>\n",
       "      <td>England</td>\n",
       "      <td>50.0%</td>\n",
       "    </tr>\n",
       "    <tr>\n",
       "      <th>7</th>\n",
       "      <td>Italy</td>\n",
       "      <td>43.0%</td>\n",
       "    </tr>\n",
       "    <tr>\n",
       "      <th>12</th>\n",
       "      <td>Russia</td>\n",
       "      <td>22.5%</td>\n",
       "    </tr>\n",
       "  </tbody>\n",
       "</table>\n",
       "</div>"
      ],
      "text/plain": [
       "       Team Shooting Accuracy\n",
       "3   England             50.0%\n",
       "7     Italy             43.0%\n",
       "12   Russia             22.5%"
      ]
     },
     "execution_count": 128,
     "metadata": {},
     "output_type": "execute_result"
    }
   ],
   "source": [
    "euro12 = pd.read_csv(\"https://raw.githubusercontent.com/guipsamora/pandas_exercises/master/02_Filtering_%26_Sorting/Euro12/Euro_2012_stats_TEAM.csv\")\n",
    "euro12['Goals'] #selected only goals.\n",
    "#16 teams, 35 columns.\n",
    "discipline = euro12[['Team', 'Yellow Cards', 'Red Cards']]\n",
    "discipline.sort_values(by=['Yellow Cards'], ascending = False)\n",
    "discipline.sort_values(by=['Red Cards'], ascending = False)\n",
    "meanyellows = np.mean(euro12['Yellow Cards']) #7.4375\n",
    "over6 = euro12.loc[euro12[\"Goals\"] >= 6] #germany, italy, portugal, spain\n",
    "gstart = euro12.loc[euro12[\"Team\"].str.contains(\"G\")] #germany, greece\n",
    "first7 = euro12.iloc[:7] #croatia, czechia, denmark, england, france, germany, greece\n",
    "first13 = euro12.iloc[:len(euro12)-3] #up to russia\n",
    "finaltable = euro12.loc[euro12[\"Team\"].isin([\"England\", \"Italy\", \"Russia\"])][[\"Team\", \"Shooting Accuracy\"]] #50, 43, 22.5"
   ]
  },
  {
   "cell_type": "markdown",
   "metadata": {},
   "source": [
    "### Question 3"
   ]
  },
  {
   "cell_type": "code",
   "execution_count": 161,
   "metadata": {
    "scrolled": true
   },
   "outputs": [
    {
     "data": {
      "text/plain": [
       "0          4\n",
       "1          3\n",
       "2          3\n",
       "3          2\n",
       "4          3\n",
       "       ...  \n",
       "295    25857\n",
       "296    15600\n",
       "297    12474\n",
       "298    14986\n",
       "299    23637\n",
       "Name: bc, Length: 300, dtype: int32"
      ]
     },
     "execution_count": 161,
     "metadata": {},
     "output_type": "execute_result"
    }
   ],
   "source": [
    "h1 = np.random.randint(0,5,100)\n",
    "h2 = np.random.randint(0,4,100)\n",
    "h3 = np.random.randint(10000,30001,100)\n",
    "housing = pd.DataFrame(data = {'bedrs':h1, 'bathrs':h2, 'price_sqr_meter':h3})\n",
    "housing\n",
    "bigcolumn = pd.DataFrame(data = {'bc':pd.concat([housing['bedrs'],housing['bathrs'],housing['price_sqr_meter']])}) #not properly indexed\n",
    "bigcolumn.reset_index()['bc']"
   ]
  },
  {
   "cell_type": "markdown",
   "metadata": {},
   "source": [
    "### Question 4"
   ]
  },
  {
   "cell_type": "code",
   "execution_count": 294,
   "metadata": {},
   "outputs": [
    {
     "data": {
      "text/html": [
       "<div>\n",
       "<style scoped>\n",
       "    .dataframe tbody tr th:only-of-type {\n",
       "        vertical-align: middle;\n",
       "    }\n",
       "\n",
       "    .dataframe tbody tr th {\n",
       "        vertical-align: top;\n",
       "    }\n",
       "\n",
       "    .dataframe thead th {\n",
       "        text-align: right;\n",
       "    }\n",
       "</style>\n",
       "<table border=\"1\" class=\"dataframe\">\n",
       "  <thead>\n",
       "    <tr style=\"text-align: right;\">\n",
       "      <th></th>\n",
       "      <th>min</th>\n",
       "      <th>max</th>\n",
       "      <th>mean</th>\n",
       "      <th>std</th>\n",
       "    </tr>\n",
       "  </thead>\n",
       "  <tbody>\n",
       "    <tr>\n",
       "      <th>1961-01-08</th>\n",
       "      <td>6.417143</td>\n",
       "      <td>13.541429</td>\n",
       "      <td>9.847659</td>\n",
       "      <td>2.601705</td>\n",
       "    </tr>\n",
       "    <tr>\n",
       "      <th>1961-01-15</th>\n",
       "      <td>4.630000</td>\n",
       "      <td>12.468571</td>\n",
       "      <td>8.353214</td>\n",
       "      <td>2.719649</td>\n",
       "    </tr>\n",
       "    <tr>\n",
       "      <th>1961-01-22</th>\n",
       "      <td>6.328571</td>\n",
       "      <td>13.204286</td>\n",
       "      <td>9.368413</td>\n",
       "      <td>2.224531</td>\n",
       "    </tr>\n",
       "    <tr>\n",
       "      <th>1961-01-29</th>\n",
       "      <td>12.720000</td>\n",
       "      <td>22.530000</td>\n",
       "      <td>16.958095</td>\n",
       "      <td>2.915635</td>\n",
       "    </tr>\n",
       "    <tr>\n",
       "      <th>1961-02-05</th>\n",
       "      <td>8.247143</td>\n",
       "      <td>16.827143</td>\n",
       "      <td>11.800357</td>\n",
       "      <td>2.807310</td>\n",
       "    </tr>\n",
       "    <tr>\n",
       "      <th>1961-02-12</th>\n",
       "      <td>10.774286</td>\n",
       "      <td>21.832857</td>\n",
       "      <td>15.891548</td>\n",
       "      <td>3.147412</td>\n",
       "    </tr>\n",
       "    <tr>\n",
       "      <th>1961-02-19</th>\n",
       "      <td>9.542857</td>\n",
       "      <td>21.167143</td>\n",
       "      <td>13.726825</td>\n",
       "      <td>3.105819</td>\n",
       "    </tr>\n",
       "    <tr>\n",
       "      <th>1961-02-26</th>\n",
       "      <td>8.524286</td>\n",
       "      <td>16.304286</td>\n",
       "      <td>12.604286</td>\n",
       "      <td>2.364323</td>\n",
       "    </tr>\n",
       "    <tr>\n",
       "      <th>1961-03-05</th>\n",
       "      <td>7.834286</td>\n",
       "      <td>17.842857</td>\n",
       "      <td>11.766766</td>\n",
       "      <td>2.535336</td>\n",
       "    </tr>\n",
       "    <tr>\n",
       "      <th>1961-03-12</th>\n",
       "      <td>6.881429</td>\n",
       "      <td>16.701429</td>\n",
       "      <td>10.612579</td>\n",
       "      <td>2.746233</td>\n",
       "    </tr>\n",
       "    <tr>\n",
       "      <th>1961-03-19</th>\n",
       "      <td>7.084286</td>\n",
       "      <td>19.350000</td>\n",
       "      <td>11.756310</td>\n",
       "      <td>3.320318</td>\n",
       "    </tr>\n",
       "    <tr>\n",
       "      <th>1961-03-26</th>\n",
       "      <td>6.648571</td>\n",
       "      <td>18.134286</td>\n",
       "      <td>10.462857</td>\n",
       "      <td>3.071975</td>\n",
       "    </tr>\n",
       "    <tr>\n",
       "      <th>1961-04-02</th>\n",
       "      <td>7.300000</td>\n",
       "      <td>13.900000</td>\n",
       "      <td>10.268433</td>\n",
       "      <td>1.883742</td>\n",
       "    </tr>\n",
       "    <tr>\n",
       "      <th>1961-04-09</th>\n",
       "      <td>5.958571</td>\n",
       "      <td>13.607143</td>\n",
       "      <td>9.412381</td>\n",
       "      <td>2.399840</td>\n",
       "    </tr>\n",
       "    <tr>\n",
       "      <th>1961-04-16</th>\n",
       "      <td>4.947143</td>\n",
       "      <td>9.482857</td>\n",
       "      <td>6.845595</td>\n",
       "      <td>1.803831</td>\n",
       "    </tr>\n",
       "    <tr>\n",
       "      <th>1961-04-23</th>\n",
       "      <td>7.768571</td>\n",
       "      <td>13.620000</td>\n",
       "      <td>10.146667</td>\n",
       "      <td>1.895943</td>\n",
       "    </tr>\n",
       "    <tr>\n",
       "      <th>1961-04-30</th>\n",
       "      <td>4.801429</td>\n",
       "      <td>10.117143</td>\n",
       "      <td>7.445000</td>\n",
       "      <td>1.864130</td>\n",
       "    </tr>\n",
       "    <tr>\n",
       "      <th>1961-05-07</th>\n",
       "      <td>9.952857</td>\n",
       "      <td>17.548571</td>\n",
       "      <td>13.164048</td>\n",
       "      <td>2.223149</td>\n",
       "    </tr>\n",
       "    <tr>\n",
       "      <th>1961-05-14</th>\n",
       "      <td>5.295714</td>\n",
       "      <td>10.421429</td>\n",
       "      <td>8.059802</td>\n",
       "      <td>1.491250</td>\n",
       "    </tr>\n",
       "    <tr>\n",
       "      <th>1961-05-21</th>\n",
       "      <td>4.258571</td>\n",
       "      <td>12.042857</td>\n",
       "      <td>7.470258</td>\n",
       "      <td>2.327906</td>\n",
       "    </tr>\n",
       "    <tr>\n",
       "      <th>1961-05-28</th>\n",
       "      <td>3.748333</td>\n",
       "      <td>11.697143</td>\n",
       "      <td>7.177956</td>\n",
       "      <td>2.370473</td>\n",
       "    </tr>\n",
       "    <tr>\n",
       "      <th>1961-06-04</th>\n",
       "      <td>6.310000</td>\n",
       "      <td>13.597143</td>\n",
       "      <td>9.244643</td>\n",
       "      <td>2.167131</td>\n",
       "    </tr>\n",
       "    <tr>\n",
       "      <th>1961-06-11</th>\n",
       "      <td>5.214286</td>\n",
       "      <td>12.250000</td>\n",
       "      <td>8.459048</td>\n",
       "      <td>2.136900</td>\n",
       "    </tr>\n",
       "    <tr>\n",
       "      <th>1961-06-18</th>\n",
       "      <td>6.520000</td>\n",
       "      <td>15.351429</td>\n",
       "      <td>10.173810</td>\n",
       "      <td>2.676791</td>\n",
       "    </tr>\n",
       "    <tr>\n",
       "      <th>1961-06-25</th>\n",
       "      <td>5.478571</td>\n",
       "      <td>17.410000</td>\n",
       "      <td>10.066548</td>\n",
       "      <td>3.494271</td>\n",
       "    </tr>\n",
       "    <tr>\n",
       "      <th>1961-07-02</th>\n",
       "      <td>6.507143</td>\n",
       "      <td>14.535714</td>\n",
       "      <td>9.528810</td>\n",
       "      <td>2.311594</td>\n",
       "    </tr>\n",
       "    <tr>\n",
       "      <th>1961-07-09</th>\n",
       "      <td>7.220000</td>\n",
       "      <td>15.987143</td>\n",
       "      <td>10.580099</td>\n",
       "      <td>2.505843</td>\n",
       "    </tr>\n",
       "    <tr>\n",
       "      <th>1961-07-16</th>\n",
       "      <td>8.412857</td>\n",
       "      <td>16.680000</td>\n",
       "      <td>11.666190</td>\n",
       "      <td>2.483875</td>\n",
       "    </tr>\n",
       "    <tr>\n",
       "      <th>1961-07-23</th>\n",
       "      <td>2.715714</td>\n",
       "      <td>8.415714</td>\n",
       "      <td>5.350952</td>\n",
       "      <td>1.726225</td>\n",
       "    </tr>\n",
       "    <tr>\n",
       "      <th>1961-07-30</th>\n",
       "      <td>5.727143</td>\n",
       "      <td>13.761429</td>\n",
       "      <td>9.431071</td>\n",
       "      <td>2.279097</td>\n",
       "    </tr>\n",
       "    <tr>\n",
       "      <th>1961-08-06</th>\n",
       "      <td>6.238571</td>\n",
       "      <td>13.760000</td>\n",
       "      <td>9.446786</td>\n",
       "      <td>2.099734</td>\n",
       "    </tr>\n",
       "    <tr>\n",
       "      <th>1961-08-13</th>\n",
       "      <td>5.078571</td>\n",
       "      <td>10.934286</td>\n",
       "      <td>8.199206</td>\n",
       "      <td>1.855421</td>\n",
       "    </tr>\n",
       "    <tr>\n",
       "      <th>1961-08-20</th>\n",
       "      <td>8.600000</td>\n",
       "      <td>16.626667</td>\n",
       "      <td>12.668413</td>\n",
       "      <td>2.466378</td>\n",
       "    </tr>\n",
       "    <tr>\n",
       "      <th>1961-08-27</th>\n",
       "      <td>7.108571</td>\n",
       "      <td>16.485714</td>\n",
       "      <td>12.061786</td>\n",
       "      <td>2.649263</td>\n",
       "    </tr>\n",
       "    <tr>\n",
       "      <th>1961-09-03</th>\n",
       "      <td>5.642857</td>\n",
       "      <td>13.664286</td>\n",
       "      <td>8.437381</td>\n",
       "      <td>2.300787</td>\n",
       "    </tr>\n",
       "    <tr>\n",
       "      <th>1961-09-10</th>\n",
       "      <td>5.685714</td>\n",
       "      <td>11.034286</td>\n",
       "      <td>8.186786</td>\n",
       "      <td>1.866173</td>\n",
       "    </tr>\n",
       "    <tr>\n",
       "      <th>1961-09-17</th>\n",
       "      <td>10.442857</td>\n",
       "      <td>19.878571</td>\n",
       "      <td>14.510833</td>\n",
       "      <td>3.058931</td>\n",
       "    </tr>\n",
       "    <tr>\n",
       "      <th>1961-09-24</th>\n",
       "      <td>4.851667</td>\n",
       "      <td>11.018571</td>\n",
       "      <td>7.247937</td>\n",
       "      <td>1.958569</td>\n",
       "    </tr>\n",
       "    <tr>\n",
       "      <th>1961-10-01</th>\n",
       "      <td>8.370000</td>\n",
       "      <td>16.208571</td>\n",
       "      <td>11.771091</td>\n",
       "      <td>2.750518</td>\n",
       "    </tr>\n",
       "    <tr>\n",
       "      <th>1961-10-08</th>\n",
       "      <td>5.262857</td>\n",
       "      <td>11.410000</td>\n",
       "      <td>8.034167</td>\n",
       "      <td>2.148981</td>\n",
       "    </tr>\n",
       "    <tr>\n",
       "      <th>1961-10-15</th>\n",
       "      <td>6.578571</td>\n",
       "      <td>15.260000</td>\n",
       "      <td>9.828115</td>\n",
       "      <td>2.680505</td>\n",
       "    </tr>\n",
       "    <tr>\n",
       "      <th>1961-10-22</th>\n",
       "      <td>10.721429</td>\n",
       "      <td>23.641429</td>\n",
       "      <td>15.479643</td>\n",
       "      <td>3.509702</td>\n",
       "    </tr>\n",
       "    <tr>\n",
       "      <th>1961-10-29</th>\n",
       "      <td>8.408571</td>\n",
       "      <td>18.404286</td>\n",
       "      <td>12.688631</td>\n",
       "      <td>3.139748</td>\n",
       "    </tr>\n",
       "    <tr>\n",
       "      <th>1961-11-05</th>\n",
       "      <td>7.541429</td>\n",
       "      <td>19.195714</td>\n",
       "      <td>11.612857</td>\n",
       "      <td>3.253959</td>\n",
       "    </tr>\n",
       "    <tr>\n",
       "      <th>1961-11-12</th>\n",
       "      <td>4.220000</td>\n",
       "      <td>10.858571</td>\n",
       "      <td>7.487262</td>\n",
       "      <td>2.516385</td>\n",
       "    </tr>\n",
       "    <tr>\n",
       "      <th>1961-11-19</th>\n",
       "      <td>4.501429</td>\n",
       "      <td>16.988571</td>\n",
       "      <td>7.647024</td>\n",
       "      <td>3.534858</td>\n",
       "    </tr>\n",
       "    <tr>\n",
       "      <th>1961-11-26</th>\n",
       "      <td>4.970000</td>\n",
       "      <td>12.732857</td>\n",
       "      <td>8.755516</td>\n",
       "      <td>2.472631</td>\n",
       "    </tr>\n",
       "    <tr>\n",
       "      <th>1961-12-03</th>\n",
       "      <td>6.245714</td>\n",
       "      <td>14.725714</td>\n",
       "      <td>9.754762</td>\n",
       "      <td>2.724343</td>\n",
       "    </tr>\n",
       "    <tr>\n",
       "      <th>1961-12-10</th>\n",
       "      <td>8.624286</td>\n",
       "      <td>17.362857</td>\n",
       "      <td>13.145357</td>\n",
       "      <td>2.904971</td>\n",
       "    </tr>\n",
       "    <tr>\n",
       "      <th>1961-12-17</th>\n",
       "      <td>8.697143</td>\n",
       "      <td>15.112857</td>\n",
       "      <td>12.703095</td>\n",
       "      <td>2.110713</td>\n",
       "    </tr>\n",
       "    <tr>\n",
       "      <th>1961-12-24</th>\n",
       "      <td>5.517143</td>\n",
       "      <td>15.757143</td>\n",
       "      <td>9.315714</td>\n",
       "      <td>3.174787</td>\n",
       "    </tr>\n",
       "    <tr>\n",
       "      <th>1961-12-31</th>\n",
       "      <td>5.372857</td>\n",
       "      <td>15.804286</td>\n",
       "      <td>9.562381</td>\n",
       "      <td>3.288602</td>\n",
       "    </tr>\n",
       "  </tbody>\n",
       "</table>\n",
       "</div>"
      ],
      "text/plain": [
       "                  min        max       mean       std\n",
       "1961-01-08   6.417143  13.541429   9.847659  2.601705\n",
       "1961-01-15   4.630000  12.468571   8.353214  2.719649\n",
       "1961-01-22   6.328571  13.204286   9.368413  2.224531\n",
       "1961-01-29  12.720000  22.530000  16.958095  2.915635\n",
       "1961-02-05   8.247143  16.827143  11.800357  2.807310\n",
       "1961-02-12  10.774286  21.832857  15.891548  3.147412\n",
       "1961-02-19   9.542857  21.167143  13.726825  3.105819\n",
       "1961-02-26   8.524286  16.304286  12.604286  2.364323\n",
       "1961-03-05   7.834286  17.842857  11.766766  2.535336\n",
       "1961-03-12   6.881429  16.701429  10.612579  2.746233\n",
       "1961-03-19   7.084286  19.350000  11.756310  3.320318\n",
       "1961-03-26   6.648571  18.134286  10.462857  3.071975\n",
       "1961-04-02   7.300000  13.900000  10.268433  1.883742\n",
       "1961-04-09   5.958571  13.607143   9.412381  2.399840\n",
       "1961-04-16   4.947143   9.482857   6.845595  1.803831\n",
       "1961-04-23   7.768571  13.620000  10.146667  1.895943\n",
       "1961-04-30   4.801429  10.117143   7.445000  1.864130\n",
       "1961-05-07   9.952857  17.548571  13.164048  2.223149\n",
       "1961-05-14   5.295714  10.421429   8.059802  1.491250\n",
       "1961-05-21   4.258571  12.042857   7.470258  2.327906\n",
       "1961-05-28   3.748333  11.697143   7.177956  2.370473\n",
       "1961-06-04   6.310000  13.597143   9.244643  2.167131\n",
       "1961-06-11   5.214286  12.250000   8.459048  2.136900\n",
       "1961-06-18   6.520000  15.351429  10.173810  2.676791\n",
       "1961-06-25   5.478571  17.410000  10.066548  3.494271\n",
       "1961-07-02   6.507143  14.535714   9.528810  2.311594\n",
       "1961-07-09   7.220000  15.987143  10.580099  2.505843\n",
       "1961-07-16   8.412857  16.680000  11.666190  2.483875\n",
       "1961-07-23   2.715714   8.415714   5.350952  1.726225\n",
       "1961-07-30   5.727143  13.761429   9.431071  2.279097\n",
       "1961-08-06   6.238571  13.760000   9.446786  2.099734\n",
       "1961-08-13   5.078571  10.934286   8.199206  1.855421\n",
       "1961-08-20   8.600000  16.626667  12.668413  2.466378\n",
       "1961-08-27   7.108571  16.485714  12.061786  2.649263\n",
       "1961-09-03   5.642857  13.664286   8.437381  2.300787\n",
       "1961-09-10   5.685714  11.034286   8.186786  1.866173\n",
       "1961-09-17  10.442857  19.878571  14.510833  3.058931\n",
       "1961-09-24   4.851667  11.018571   7.247937  1.958569\n",
       "1961-10-01   8.370000  16.208571  11.771091  2.750518\n",
       "1961-10-08   5.262857  11.410000   8.034167  2.148981\n",
       "1961-10-15   6.578571  15.260000   9.828115  2.680505\n",
       "1961-10-22  10.721429  23.641429  15.479643  3.509702\n",
       "1961-10-29   8.408571  18.404286  12.688631  3.139748\n",
       "1961-11-05   7.541429  19.195714  11.612857  3.253959\n",
       "1961-11-12   4.220000  10.858571   7.487262  2.516385\n",
       "1961-11-19   4.501429  16.988571   7.647024  3.534858\n",
       "1961-11-26   4.970000  12.732857   8.755516  2.472631\n",
       "1961-12-03   6.245714  14.725714   9.754762  2.724343\n",
       "1961-12-10   8.624286  17.362857  13.145357  2.904971\n",
       "1961-12-17   8.697143  15.112857  12.703095  2.110713\n",
       "1961-12-24   5.517143  15.757143   9.315714  3.174787\n",
       "1961-12-31   5.372857  15.804286   9.562381  3.288602"
      ]
     },
     "execution_count": 294,
     "metadata": {},
     "output_type": "execute_result"
    }
   ],
   "source": [
    "wind = pd.read_csv(r'C:\\Users\\Brad\\Downloads\\wind.txt', delim_whitespace=True)\n",
    "wind = wind.rename(columns={\"Yr\":\"year\",\"Mo\":\"month\",\"Dy\":\"day\"})\n",
    "wind[\"year\"] += 1900\n",
    "d = pd.to_datetime(wind[[\"year\", \"month\", \"day\"]])\n",
    "wind = wind.drop([\"year\", \"month\", \"day\"], axis=1)\n",
    "wind = wind.set_index(d)\n",
    "nancolumns = np.isnan(wind).sum()\n",
    "nantotal = nancolumns.sum() #31\n",
    "datatotal = wind.size - nantotal #78857\n",
    "totalmean = wind.mean().mean() #10.227982360836924\n",
    "loc_stats = pd.DataFrame(data = {'min':wind.min(),'max':wind.max(),'mean':wind.mean(),'std':wind.std()})\n",
    "day_stats = pd.DataFrame(data = {'min':wind.min(axis=1),'max':wind.max(axis=1),'mean':wind.mean(axis=1),'std':wind.std(axis=1)})\n",
    "janmean = wind.iloc[wind.index.month == 1].mean()\n",
    "ywind = wind.resample('1Y').mean()\n",
    "mwind = wind.resample('1M').mean()\n",
    "wwind = wind.drop(wind.index[0]).resample('1W').mean()\n",
    "week_stats = pd.DataFrame(data = {'min':wwind.min(axis=1),'max':wwind.max(axis=1),'mean':wwind.mean(axis=1),'std':wwind.std(axis=1)}).iloc[:52]\n",
    "week_stats"
   ]
  },
  {
   "cell_type": "markdown",
   "metadata": {},
   "source": [
    "### Question 5"
   ]
  },
  {
   "cell_type": "code",
   "execution_count": 390,
   "metadata": {},
   "outputs": [
    {
     "data": {
      "text/plain": [
       "50"
      ]
     },
     "execution_count": 390,
     "metadata": {},
     "output_type": "execute_result"
    }
   ],
   "source": [
    "chipo = pd.read_csv(\"https://raw.githubusercontent.com/justmarkham/DAT8/master/data/chipotle.tsv\", delimiter = '\t')\n",
    "chipo.iloc[:10]\n",
    "n_obs = len(chipo) #4622\n",
    "n_cols = len(chipo.columns) #5\n",
    "cols = chipo.columns #order_id', 'quantity', 'item_name', 'choice_description','item_price\n",
    "#the data is indexed by items ordered\n",
    "n_items = chipo['item_name'].value_counts() #Chicken Bowl 726\n",
    "items = chipo.loc[~chipo['choice_description'].isnull()]['choice_description'].str.replace('[','').str.replace(']','').str.split(\",\",expand=False).explode()\n",
    "#there are 15754 items\n",
    "items.value_counts() #Rice 2383\n",
    "chipo[\"item_price\"] = chipo[\"item_price\"].apply(lambda x: float((x.replace('$',''))))\n",
    "pricesum = chipo[\"item_price\"].sum() #34500.16\n",
    "maxorder = chipo[\"order_id\"].max() #1834\n",
    "avgorder = chipo[\"item_price\"].mean() #$7.46\n",
    "numitems = chipo['item_name'].nunique() #50"
   ]
  },
  {
   "cell_type": "markdown",
   "metadata": {},
   "source": [
    "### Question 6"
   ]
  },
  {
   "cell_type": "code",
   "execution_count": 407,
   "metadata": {},
   "outputs": [
    {
     "data": {
      "text/plain": [
       "<matplotlib.legend.Legend at 0x20bdc5964f0>"
      ]
     },
     "execution_count": 407,
     "metadata": {},
     "output_type": "execute_result"
    },
    {
     "data": {
      "image/png": "[encoded data removed]",
      "text/plain": [
       "<Figure size 432x288 with 1 Axes>"
      ]
     },
     "metadata": {
      "needs_background": "light"
     },
     "output_type": "display_data"
    }
   ],
   "source": [
    "ds6 = pd.read_csv(r'C:\\Users\\Brad\\Downloads\\us-marriages-divorces-1867-2014.csv',delimiter=\",\")\n",
    "plt.plot(ds6['Year'],0.001*ds6['Marriages_per_1000'])\n",
    "plt.plot(ds6['Year'],0.001*ds6['Divorces_per_1000'])\n",
    "plt.xlabel(\"Year\")\n",
    "plt.ylabel(\"Per Capita\")\n",
    "plt.legend(['Marriages per Capita', 'Divorces per Capita'])"
   ]
  },
  {
   "cell_type": "markdown",
   "metadata": {},
   "source": [
    "### Question 7"
   ]
  },
  {
   "cell_type": "code",
   "execution_count": 417,
   "metadata": {},
   "outputs": [
    {
     "data": {
      "text/plain": [
       "<matplotlib.legend.Legend at 0x20bdcb58e20>"
      ]
     },
     "execution_count": 417,
     "metadata": {},
     "output_type": "execute_result"
    },
    {
     "data": {
      "image/png": "[encoded data removed]",
      "text/plain": [
       "<Figure size 432x288 with 1 Axes>"
      ]
     },
     "metadata": {
      "needs_background": "light"
     },
     "output_type": "display_data"
    }
   ],
   "source": [
    "ds6 = pd.read_csv(r'C:\\Users\\Brad\\Downloads\\us-marriages-divorces-1867-2014.csv',delimiter=\",\")\n",
    "plt.bar([1900, 1950, 2000],0.001*ds6.loc[ds6[\"Year\"].isin([1900, 1950, 2000])]['Marriages_per_1000'], width = 40)\n",
    "plt.bar([1900, 1950, 2000],0.001*ds6.loc[ds6[\"Year\"].isin([1900, 1950, 2000])]['Divorces_per_1000'], width = 40)\n",
    "plt.xlabel(\"Year\")\n",
    "plt.ylabel(\"Per Capita\")\n",
    "plt.legend(['Marriages per Capita', 'Divorces per Capita'])"
   ]
  },
  {
   "cell_type": "markdown",
   "metadata": {},
   "source": [
    "### Question 8"
   ]
  },
  {
   "cell_type": "code",
   "execution_count": 422,
   "metadata": {},
   "outputs": [
    {
     "data": {
      "text/plain": [
       "<matplotlib.legend.Legend at 0x20bdcbbff40>"
      ]
     },
     "execution_count": 422,
     "metadata": {},
     "output_type": "execute_result"
    },
    {
     "data": {
      "image/png": "[encoded data removed]",
      "text/plain": [
       "<Figure size 432x288 with 1 Axes>"
      ]
     },
     "metadata": {
      "needs_background": "light"
     },
     "output_type": "display_data"
    }
   ],
   "source": [
    "ds8 = pd.read_csv(r'C:\\Users\\Brad\\Downloads\\actor_kill_counts.csv',delimiter=\",\")\n",
    "plt.barh(ds8['Actor'],ds8['Count'])\n",
    "plt.xlabel(\"Kills\")\n",
    "plt.ylabel(\"Actors\")\n",
    "plt.legend(['Kills per Actor'])"
   ]
  },
  {
   "cell_type": "markdown",
   "metadata": {},
   "source": [
    "### Question 9"
   ]
  },
  {
   "cell_type": "code",
   "execution_count": 433,
   "metadata": {},
   "outputs": [
    {
     "data": {
      "text/plain": [
       "([<matplotlib.patches.Wedge at 0x20bdcdf8c40>,\n",
       "  <matplotlib.patches.Wedge at 0x20bdce05160>,\n",
       "  <matplotlib.patches.Wedge at 0x20bdce055e0>,\n",
       "  <matplotlib.patches.Wedge at 0x20bdce05a60>,\n",
       "  <matplotlib.patches.Wedge at 0x20bdce05ee0>,\n",
       "  <matplotlib.patches.Wedge at 0x20bdce143a0>,\n",
       "  <matplotlib.patches.Wedge at 0x20bdce14820>,\n",
       "  <matplotlib.patches.Wedge at 0x20bdce14ca0>],\n",
       " [Text(0.5790753482603685, 0.9352388684379692, 'Assassinated'),\n",
       "  Text(-1.025719479700726, 0.3973657621920542, 'Natural causes'),\n",
       "  Text(-0.8129097548643817, -0.7410652673323255, 'Killed in battle'),\n",
       "  Text(-0.10149511246469993, -1.0953076016105148, 'Possibly assassinated'),\n",
       "  Text(0.5352650097816886, -0.9609845832808188, 'Illness'),\n",
       "  Text(0.9074972879645549, -0.6216499596533229, 'Suicide'),\n",
       "  Text(1.0707818897912493, -0.25184547741637286, 'Executed'),\n",
       "  Text(1.0988262785166438, -0.05080166967003301, 'Died in captivity')])"
      ]
     },
     "execution_count": 433,
     "metadata": {},
     "output_type": "execute_result"
    },
    {
     "data": {
      "image/png": "[encoded data removed]",
      "text/plain": [
       "<Figure size 432x288 with 1 Axes>"
      ]
     },
     "metadata": {},
     "output_type": "display_data"
    }
   ],
   "source": [
    "ds9 = pd.read_csv(r'C:\\Users\\Brad\\Downloads\\roman-emperor-reigns.csv',delimiter=\",\")\n",
    "ds9a = ds9['Cause_of_Death'].value_counts()\n",
    "plt.pie(ds9a, labels=ds9a.index)"
   ]
  },
  {
   "cell_type": "markdown",
   "metadata": {},
   "source": [
    "### Question 10"
   ]
  },
  {
   "cell_type": "code",
   "execution_count": 441,
   "metadata": {},
   "outputs": [
    {
     "data": {
      "text/plain": [
       "Text(0, 0.5, 'Computer Science Doctorates Awarded (US)')"
      ]
     },
     "execution_count": 441,
     "metadata": {},
     "output_type": "execute_result"
    },
    {
     "data": {
      "image/png": "[encoded data removed]",
      "text/plain": [
       "<Figure size 432x288 with 1 Axes>"
      ]
     },
     "metadata": {
      "needs_background": "light"
     },
     "output_type": "display_data"
    }
   ],
   "source": [
    "ds10 = pd.read_csv(r'C:\\Users\\Brad\\Downloads\\arcade-revenue-vs-cs-doctorates.csv',delimiter=\",\")\n",
    "plt.scatter(ds10['Total Arcade Revenue (billions)'], ds10['Computer Science Doctorates Awarded (US)'], c=ds10['Year'])\n",
    "plt.xlabel(\"Total Arcade Revenue (billions)\")\n",
    "plt.ylabel(\"Computer Science Doctorates Awarded (US)\")"
   ]
  }
 ],
 "metadata": {
  "kernelspec": {
   "display_name": "Python 3",
   "language": "python",
   "name": "python3"
  },
  "language_info": {
   "codemirror_mode": {
    "name": "ipython",
    "version": 3
   },
   "file_extension": ".py",
   "mimetype": "text/x-python",
   "name": "python",
   "nbconvert_exporter": "python",
   "pygments_lexer": "ipython3",
   "version": "3.8.5"
  }
 },
 "nbformat": 4,
 "nbformat_minor": 4
}
